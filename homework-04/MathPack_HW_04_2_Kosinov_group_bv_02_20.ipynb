{
  "cells": [
    {
      "cell_type": "markdown",
      "metadata": {
        "id": "Wr4wXEgApZiW"
      },
      "source": [
        "НПМбв-02-20\n",
        "Косинов Н.А."
      ]
    },
    {
      "cell_type": "markdown",
      "metadata": {
        "id": "NXU7k6DbpZik"
      },
      "source": [
        "## 1. Табличные данные и Pandas"
      ]
    },
    {
      "cell_type": "code",
      "execution_count": 4,
      "metadata": {
        "colab": {
          "base_uri": "https://localhost:8080/"
        },
        "id": "ru-ObGqypZir",
        "outputId": "c66d8ba2-5e72-4d1e-aea5-f2480c090ac1"
      },
      "outputs": [
        {
          "output_type": "stream",
          "name": "stdout",
          "text": [
            "Populating the interactive namespace from numpy and matplotlib\n"
          ]
        }
      ],
      "source": [
        "%pylab inline\n",
        "# import almost all we need\n",
        "import pandas as pd"
      ]
    },
    {
      "cell_type": "markdown",
      "metadata": {
        "id": "h9zfB9RgpZi0"
      },
      "source": [
        "Данные находятся в приложенном файле `chipotle.tsv`"
      ]
    },
    {
      "cell_type": "markdown",
      "metadata": {
        "id": "xjY-ybUzpZi2"
      },
      "source": [
        "#### 1. Откройте файл с таблицей (не забудьте про её формат). Выведите последние 10 строк.\n",
        "\n",
        "Посмотрите на данные и скажите, что они из себя представляют, сколько в таблице строк, какие столбцы?"
      ]
    },
    {
      "cell_type": "code",
      "source": [
        "table = pd.read_csv('chipotle.tsv',sep='\\t')\n",
        "last = table.tail(10)\n",
        "print(last)"
      ],
      "metadata": {
        "colab": {
          "base_uri": "https://localhost:8080/"
        },
        "id": "FkyCIwVIxhMj",
        "outputId": "48f87c51-1b75-400f-8390-40664f3f61a4"
      },
      "execution_count": 5,
      "outputs": [
        {
          "output_type": "stream",
          "name": "stdout",
          "text": [
            "      order_id  quantity            item_name  \\\n",
            "4612      1831         1        Carnitas Bowl   \n",
            "4613      1831         1                Chips   \n",
            "4614      1831         1        Bottled Water   \n",
            "4615      1832         1   Chicken Soft Tacos   \n",
            "4616      1832         1  Chips and Guacamole   \n",
            "4617      1833         1        Steak Burrito   \n",
            "4618      1833         1        Steak Burrito   \n",
            "4619      1834         1   Chicken Salad Bowl   \n",
            "4620      1834         1   Chicken Salad Bowl   \n",
            "4621      1834         1   Chicken Salad Bowl   \n",
            "\n",
            "                                     choice_description item_price  \n",
            "4612  [Fresh Tomato Salsa, [Fajita Vegetables, Rice,...     $9.25   \n",
            "4613                                                NaN     $2.15   \n",
            "4614                                                NaN     $1.50   \n",
            "4615   [Fresh Tomato Salsa, [Rice, Cheese, Sour Cream]]     $8.75   \n",
            "4616                                                NaN     $4.45   \n",
            "4617  [Fresh Tomato Salsa, [Rice, Black Beans, Sour ...    $11.75   \n",
            "4618  [Fresh Tomato Salsa, [Rice, Sour Cream, Cheese...    $11.75   \n",
            "4619  [Fresh Tomato Salsa, [Fajita Vegetables, Pinto...    $11.25   \n",
            "4620  [Fresh Tomato Salsa, [Fajita Vegetables, Lettu...     $8.75   \n",
            "4621  [Fresh Tomato Salsa, [Fajita Vegetables, Pinto...     $8.75   \n"
          ]
        }
      ]
    },
    {
      "cell_type": "markdown",
      "source": [
        "Мы видим список заказов. Предположение:\n",
        "* нулевая колонка - номер записи;\n",
        "* первая колонка - номер покупателя;\n",
        "* вторая колонка - количество купленного товара;\n",
        "* третья колонка - наименование;\n",
        "* четвёртая колонка - состав;\n",
        "* пятая колонка - цена."
      ],
      "metadata": {
        "id": "wSYgqSGotsr9"
      }
    },
    {
      "cell_type": "markdown",
      "metadata": {
        "id": "pqDVHAnfpZi5"
      },
      "source": [
        "#### 2.  Ответьте на вопросы:\n",
        "1. Сколько заказов попало в выборку?\n",
        "2. Сколько уникальных категорий товара было куплено? (item_name)"
      ]
    },
    {
      "cell_type": "code",
      "execution_count": 6,
      "metadata": {
        "colab": {
          "base_uri": "https://localhost:8080/"
        },
        "id": "a1uVz6V3pZi_",
        "outputId": "c2055634-387d-45ae-8a85-6ce9157b1aed"
      },
      "outputs": [
        {
          "output_type": "stream",
          "name": "stdout",
          "text": [
            "В выборку попало 4 заказов\n",
            "Было куплено 7 категорий товаров\n"
          ]
        }
      ],
      "source": [
        "print('В выборку попало',last['order_id'].nunique(),'заказов')\n",
        "print('Было куплено',last['item_name'].nunique(),'категорий товаров')"
      ]
    },
    {
      "cell_type": "markdown",
      "metadata": {
        "id": "qdFSdnXXpZjA"
      },
      "source": [
        "#### 3. Есть ли в данных пропуски? В каких колонках?"
      ]
    },
    {
      "cell_type": "code",
      "execution_count": 7,
      "metadata": {
        "colab": {
          "base_uri": "https://localhost:8080/"
        },
        "id": "8-h0cclEpZjA",
        "outputId": "a6e655fe-e663-4f8e-9bfa-7f2f41d67727"
      },
      "outputs": [
        {
          "output_type": "stream",
          "name": "stdout",
          "text": [
            "Все столбцы >> \n",
            "['order_id', 'quantity', 'item_name', 'choice_description', 'item_price']\n",
            "\n",
            "Столбцы с пустотами >> \n",
            "['choice_description']\n"
          ]
        }
      ],
      "source": [
        "columns = table.columns.tolist()\n",
        "print('Все столбцы >> ')\n",
        "print(columns)\n",
        "nan = []\n",
        "for c in columns:\n",
        "  if table[c].isin([NaN]).any(): nan.append(c)\n",
        "print('\\nСтолбцы с пустотами >> ')\n",
        "print(nan)"
      ]
    },
    {
      "cell_type": "markdown",
      "metadata": {
        "id": "s3eOhCyfpZjB"
      },
      "source": [
        "Заполните пропуски пустой строкой для строковых колонок и нулём для числовых.\n",
        "\n",
        "В предыдущем пункте мы увидели, что с пустотами только строковый столбец."
      ]
    },
    {
      "cell_type": "code",
      "execution_count": 8,
      "metadata": {
        "colab": {
          "base_uri": "https://localhost:8080/"
        },
        "id": "rS-AGBwppZjH",
        "outputId": "0a57660d-ea56-4753-8d0c-ffd1dec4dae3"
      },
      "outputs": [
        {
          "output_type": "stream",
          "name": "stdout",
          "text": [
            "      order_id  quantity            item_name  \\\n",
            "4612      1831         1        Carnitas Bowl   \n",
            "4613      1831         1                Chips   \n",
            "4614      1831         1        Bottled Water   \n",
            "4615      1832         1   Chicken Soft Tacos   \n",
            "4616      1832         1  Chips and Guacamole   \n",
            "4617      1833         1        Steak Burrito   \n",
            "4618      1833         1        Steak Burrito   \n",
            "4619      1834         1   Chicken Salad Bowl   \n",
            "4620      1834         1   Chicken Salad Bowl   \n",
            "4621      1834         1   Chicken Salad Bowl   \n",
            "\n",
            "                                     choice_description item_price  \n",
            "4612  [Fresh Tomato Salsa, [Fajita Vegetables, Rice,...     $9.25   \n",
            "4613                                                        $2.15   \n",
            "4614                                                        $1.50   \n",
            "4615   [Fresh Tomato Salsa, [Rice, Cheese, Sour Cream]]     $8.75   \n",
            "4616                                                        $4.45   \n",
            "4617  [Fresh Tomato Salsa, [Rice, Black Beans, Sour ...    $11.75   \n",
            "4618  [Fresh Tomato Salsa, [Rice, Sour Cream, Cheese...    $11.75   \n",
            "4619  [Fresh Tomato Salsa, [Fajita Vegetables, Pinto...    $11.25   \n",
            "4620  [Fresh Tomato Salsa, [Fajita Vegetables, Lettu...     $8.75   \n",
            "4621  [Fresh Tomato Salsa, [Fajita Vegetables, Pinto...     $8.75   \n"
          ]
        }
      ],
      "source": [
        "table = table.fillna(value='')\n",
        "last = table.tail(10)\n",
        "print(last)"
      ]
    },
    {
      "cell_type": "markdown",
      "metadata": {
        "id": "bhVM4Yh2pZjH"
      },
      "source": [
        "#### 4. Посмотрите внимательнее на колонку с ценой товара. Какого она типа? Создайте новую колонку так, чтобы в ней цена была числом.\n",
        "\n",
        "Для этого попробуйте применить функцию-преобразование к каждой строке вашей таблицы (для этого есть соответствующая функция)."
      ]
    },
    {
      "cell_type": "code",
      "execution_count": 9,
      "metadata": {
        "colab": {
          "base_uri": "https://localhost:8080/"
        },
        "id": "0pAafwpApZjI",
        "outputId": "296ebdba-855b-4ae9-8cec-3553f26be4f4"
      },
      "outputs": [
        {
          "output_type": "stream",
          "name": "stdout",
          "text": [
            "Тип колонки цены >>  object\n",
            "      order_id  quantity            item_name  \\\n",
            "4612      1831         1        Carnitas Bowl   \n",
            "4613      1831         1                Chips   \n",
            "4614      1831         1        Bottled Water   \n",
            "4615      1832         1   Chicken Soft Tacos   \n",
            "4616      1832         1  Chips and Guacamole   \n",
            "4617      1833         1        Steak Burrito   \n",
            "4618      1833         1        Steak Burrito   \n",
            "4619      1834         1   Chicken Salad Bowl   \n",
            "4620      1834         1   Chicken Salad Bowl   \n",
            "4621      1834         1   Chicken Salad Bowl   \n",
            "\n",
            "                                     choice_description item_price  price  \n",
            "4612  [Fresh Tomato Salsa, [Fajita Vegetables, Rice,...     $9.25    9.25  \n",
            "4613                                                        $2.15    2.15  \n",
            "4614                                                        $1.50    1.50  \n",
            "4615   [Fresh Tomato Salsa, [Rice, Cheese, Sour Cream]]     $8.75    8.75  \n",
            "4616                                                        $4.45    4.45  \n",
            "4617  [Fresh Tomato Salsa, [Rice, Black Beans, Sour ...    $11.75   11.75  \n",
            "4618  [Fresh Tomato Salsa, [Rice, Sour Cream, Cheese...    $11.75   11.75  \n",
            "4619  [Fresh Tomato Salsa, [Fajita Vegetables, Pinto...    $11.25   11.25  \n",
            "4620  [Fresh Tomato Salsa, [Fajita Vegetables, Lettu...     $8.75    8.75  \n",
            "4621  [Fresh Tomato Salsa, [Fajita Vegetables, Pinto...     $8.75    8.75  \n"
          ]
        }
      ],
      "source": [
        "print('Тип колонки цены >> ',table['item_price'].dtypes)\n",
        "if 'price' not in table.columns:\n",
        "  table = table.reindex(columns=list(table.columns)+['price'])\n",
        "\n",
        "table.loc[:,'price'] = table.loc[:,'item_price'].apply(lambda x: float(x[1:]))\n",
        "last = table.tail(10)\n",
        "print(last)"
      ]
    },
    {
      "cell_type": "markdown",
      "metadata": {
        "id": "etB8-coLpZjI"
      },
      "source": [
        "Какая средняя/минимальная/максимальная цена у товара?"
      ]
    },
    {
      "cell_type": "code",
      "execution_count": 10,
      "metadata": {
        "colab": {
          "base_uri": "https://localhost:8080/"
        },
        "id": "jLybBrGwpZjO",
        "outputId": "8c6b5d61-1964-4fb9-d9ea-bdcdf629427a"
      },
      "outputs": [
        {
          "output_type": "stream",
          "name": "stdout",
          "text": [
            "Без учёта quantity\n",
            "Самая высокая покупки = 44.25\n",
            "Самая низкая  покупки = 1.09\n",
            "Средняя цена  покупки = 7.46\n",
            "\n",
            "С учётом quantity\n",
            "Самая высокая  цена = 11.89\n",
            "Самая низкая   цена = 1.09\n",
            "Средняя цена товара = 7.18\n"
          ]
        }
      ],
      "source": [
        "print('Без учёта quantity')\n",
        "print('Самая высокая покупки =',table['price'].max())\n",
        "print('Самая низкая  покупки =',table['price'].min())\n",
        "print('Средняя цена  покупки = {:.2f}'.format(table['price'].mean()))\n",
        "print('\\nС учётом quantity')\n",
        "print('Самая высокая  цена =',table[table['quantity']==1]['price'].max())\n",
        "print('Самая низкая   цена =',table[table['quantity']==1]['price'].min())\n",
        "print('Средняя цена товара = {:.2f}'.format(table[table['quantity']==1]['price'].mean()))"
      ]
    },
    {
      "cell_type": "markdown",
      "metadata": {
        "id": "di-ViaRNpZjP"
      },
      "source": [
        "Удалите старую колонку с ценой."
      ]
    },
    {
      "cell_type": "code",
      "execution_count": 11,
      "metadata": {
        "colab": {
          "base_uri": "https://localhost:8080/"
        },
        "id": "v8xekJxppZjP",
        "outputId": "4f1867f1-4e4c-4c70-9959-3251fa3e296d"
      },
      "outputs": [
        {
          "output_type": "stream",
          "name": "stdout",
          "text": [
            "      order_id  quantity            item_name  \\\n",
            "4612      1831         1        Carnitas Bowl   \n",
            "4613      1831         1                Chips   \n",
            "4614      1831         1        Bottled Water   \n",
            "4615      1832         1   Chicken Soft Tacos   \n",
            "4616      1832         1  Chips and Guacamole   \n",
            "4617      1833         1        Steak Burrito   \n",
            "4618      1833         1        Steak Burrito   \n",
            "4619      1834         1   Chicken Salad Bowl   \n",
            "4620      1834         1   Chicken Salad Bowl   \n",
            "4621      1834         1   Chicken Salad Bowl   \n",
            "\n",
            "                                     choice_description  price  \n",
            "4612  [Fresh Tomato Salsa, [Fajita Vegetables, Rice,...   9.25  \n",
            "4613                                                      2.15  \n",
            "4614                                                      1.50  \n",
            "4615   [Fresh Tomato Salsa, [Rice, Cheese, Sour Cream]]   8.75  \n",
            "4616                                                      4.45  \n",
            "4617  [Fresh Tomato Salsa, [Rice, Black Beans, Sour ...  11.75  \n",
            "4618  [Fresh Tomato Salsa, [Rice, Sour Cream, Cheese...  11.75  \n",
            "4619  [Fresh Tomato Salsa, [Fajita Vegetables, Pinto...  11.25  \n",
            "4620  [Fresh Tomato Salsa, [Fajita Vegetables, Lettu...   8.75  \n",
            "4621  [Fresh Tomato Salsa, [Fajita Vegetables, Pinto...   8.75  \n"
          ]
        }
      ],
      "source": [
        "columns = list(table.columns)\n",
        "columns.remove('item_price')\n",
        "table = table.reindex(columns=columns)\n",
        "last = table.tail(10)\n",
        "print(last)"
      ]
    },
    {
      "cell_type": "markdown",
      "metadata": {
        "id": "1pyTN2yPpZjQ"
      },
      "source": [
        "#### 5. Какие 5 товаров были самыми дешёвыми и самыми дорогими? (по item_name)\n",
        "\n",
        "Для этого будет удобно избавиться от дубликатов и отсортировать товары. Не забудьте про количество товара."
      ]
    },
    {
      "cell_type": "code",
      "execution_count": 12,
      "metadata": {
        "colab": {
          "base_uri": "https://localhost:8080/"
        },
        "id": "y_nKx853pZjQ",
        "outputId": "232ab9a5-03d8-4a35-8a43-178c662a6fa0"
      },
      "outputs": [
        {
          "output_type": "stream",
          "name": "stdout",
          "text": [
            "Самые дорогие товары:\n",
            "            item_name  price\n",
            "     Steak Salad Bowl  11.89\n",
            "  Carnitas Salad Bowl  11.89\n",
            "  Barbacoa Salad Bowl  11.89\n",
            "Barbacoa Crispy Tacos  11.75\n",
            "     Carnitas Burrito  11.75\n",
            "\n",
            "Самые дешёвые товары:\n",
            "        item_name  price\n",
            "    Bottled Water   1.09\n",
            "      Canned Soda   1.09\n",
            "Canned Soft Drink   1.25\n",
            "    Side of Chips   1.69\n",
            "            Chips   1.99\n"
          ]
        },
        {
          "output_type": "stream",
          "name": "stderr",
          "text": [
            "<ipython-input-12-7e1c7fa1a4f0>:1: UserWarning: Boolean Series key will be reindexed to match DataFrame index.\n",
            "  t1 = table.sort_values(by='price')[table['quantity']==1]\n"
          ]
        }
      ],
      "source": [
        "t1 = table.sort_values(by='price')[table['quantity']==1]\n",
        "print('Самые дорогие товары:')\n",
        "print(t1[['item_name','price']].drop_duplicates(subset='item_name',keep='last').tail(5)[::-1].to_string(index=False))\n",
        "print('\\nСамые дешёвые товары:')\n",
        "print(t1[['item_name','price']].drop_duplicates(subset='item_name',keep='first').head(5).to_string(index=False))"
      ]
    },
    {
      "cell_type": "markdown",
      "metadata": {
        "id": "X82ImVGTpZjW"
      },
      "source": [
        "#### 6. Сколько раз клиенты покупали больше 1 Chicken Bowl (item_name)?"
      ]
    },
    {
      "cell_type": "code",
      "execution_count": 13,
      "metadata": {
        "colab": {
          "base_uri": "https://localhost:8080/"
        },
        "id": "BcuSGh4GpZjW",
        "outputId": "2169ffe6-5cb7-4a0e-d43a-8f38c7169c53"
      },
      "outputs": [
        {
          "output_type": "stream",
          "name": "stdout",
          "text": [
            "Chicken Bowl больше 1 порции покупали 33 раз\n",
            "Всего этот товар покупали 726 раз\n"
          ]
        }
      ],
      "source": [
        "print('Chicken Bowl больше 1 порции покупали',\n",
        "      table[(table['item_name']=='Chicken Bowl') & (table['quantity'] > 1)].shape[0],'раз')\n",
        "print('Всего этот товар покупали',\n",
        "      table[table['item_name']=='Chicken Bowl'].shape[0],'раз')\n"
      ]
    },
    {
      "cell_type": "markdown",
      "metadata": {
        "id": "Brx2iChLpZjX"
      },
      "source": [
        "#### 7. Какой средний чек у заказа? Сколько в среднем товаров покупают?\n",
        "\n",
        "Если необходимо провести вычисления в терминах заказов, то будет удобно сгруппировать строки по заказам и посчитать необходимые статистики."
      ]
    },
    {
      "cell_type": "code",
      "execution_count": 14,
      "metadata": {
        "colab": {
          "base_uri": "https://localhost:8080/"
        },
        "id": "347Vc0S-pZjX",
        "outputId": "ecf0c073-50d4-4d8d-ea02-72b325dd2a4b"
      },
      "outputs": [
        {
          "output_type": "stream",
          "name": "stdout",
          "text": [
            "Средний чек = $18.81\n",
            "В среднем покупают 2.71 товаров\n"
          ]
        }
      ],
      "source": [
        "sumcheck = table.groupby('order_id')[['quantity','price']].sum()\n",
        "print('Средний чек = ${:.2f}'.format(sumcheck['price'].mean()))\n",
        "print('В среднем покупают {:.2f}'.format(sumcheck['quantity'].mean()),'товаров')"
      ]
    },
    {
      "cell_type": "markdown",
      "metadata": {
        "id": "GBZRCR4XpZjd"
      },
      "source": [
        "#### 8. Сколько заказов содержали ровно 1 товар?"
      ]
    },
    {
      "cell_type": "code",
      "execution_count": 15,
      "metadata": {
        "colab": {
          "base_uri": "https://localhost:8080/"
        },
        "id": "fhoV_H6fpZjd",
        "outputId": "96b20bdf-ac3d-43f9-c785-63232fda3646"
      },
      "outputs": [
        {
          "output_type": "stream",
          "name": "stdout",
          "text": [
            "Ровно 1 товар содержали 56 заказов\n"
          ]
        }
      ],
      "source": [
        "print('Ровно 1 товар содержали',sumcheck[(sumcheck['quantity']==1)].shape[0],'заказов')"
      ]
    },
    {
      "cell_type": "markdown",
      "metadata": {
        "id": "0ijqALG8pZje"
      },
      "source": [
        "#### 9. Какая самая популярная категория товара?"
      ]
    },
    {
      "cell_type": "code",
      "execution_count": 16,
      "metadata": {
        "colab": {
          "base_uri": "https://localhost:8080/"
        },
        "id": "F1eN6n5HpZje",
        "outputId": "281eec15-7a5d-4682-85ab-f2dcbd108952"
      },
      "outputs": [
        {
          "output_type": "stream",
          "name": "stdout",
          "text": [
            "Самый популярный товар - Chicken Bowl\n",
            "Его покупали  761 раз.\n"
          ]
        }
      ],
      "source": [
        "popular = table.groupby('item_name')['quantity'].sum()\n",
        "popular = popular.sort_values()\n",
        "print('Самый популярный товар -',popular.tail(1).index[0])\n",
        "print('Его покупали ',popular.max(),'раз.')"
      ]
    },
    {
      "cell_type": "markdown",
      "metadata": {
        "id": "BHgIzqofpZjk"
      },
      "source": [
        "#### 10. Какие виды Burrito существуют? Какой из них чаще всего покупают? Какой из них самый дорогой?"
      ]
    },
    {
      "cell_type": "code",
      "execution_count": 17,
      "metadata": {
        "colab": {
          "base_uri": "https://localhost:8080/"
        },
        "id": "Vowyy2AupZjk",
        "outputId": "14375943-d9d0-4f65-a076-b162e4360949"
      },
      "outputs": [
        {
          "output_type": "stream",
          "name": "stdout",
          "text": [
            "Существуют следующие виды Burrito:\n",
            "Steak Burrito\n",
            "Chicken Burrito\n",
            "Barbacoa Burrito\n",
            "Carnitas Burrito\n",
            "Veggie Burrito\n",
            "Burrito\n",
            "\n",
            "Чаще всего покупают Chicken Burrito\n",
            "Его купили 591 раз.\n",
            "Самый дорогой - Carnitas Burrito\n",
            "Он стоит $11.75\n",
            "\n"
          ]
        },
        {
          "output_type": "stream",
          "name": "stderr",
          "text": [
            "<ipython-input-17-45e13d05ad85>:13: UserWarning: Boolean Series key will be reindexed to match DataFrame index.\n",
            "  tp = table.sort_values(by='price')[(table['quantity']==1)&(table['item_name'].isin(bnames))]\n"
          ]
        }
      ],
      "source": [
        "names = table['item_name'].unique()\n",
        "\n",
        "bnames = []\n",
        "for n in names:\n",
        "  if 'Burrito' in n: bnames.append(n)\n",
        "\n",
        "print('Существуют следующие виды Burrito:')\n",
        "print(*bnames,sep='\\n')\n",
        "pop = popular[bnames].sort_values().tail(1).index[0]\n",
        "print('\\nЧаще всего покупают',pop)\n",
        "print('Его купили',popular[pop],'раз.')\n",
        "\n",
        "tp = table.sort_values(by='price')[(table['quantity']==1)&(table['item_name'].isin(bnames))]\n",
        "top = tp[['item_name','price']].drop_duplicates(subset='item_name',keep='last').tail(1)['item_name'].to_string(index=False)\n",
        "print('Самый дорогой -',top)\n",
        "print('Он стоит $',tp['price'].max(),sep='')\n",
        "print()"
      ]
    },
    {
      "cell_type": "markdown",
      "metadata": {
        "collapsed": true,
        "id": "dGRw3FR4pZjl"
      },
      "source": [
        "#### 11. В каком количестве заказов есть товар, который стоит более 40% от суммы всего чека?\n",
        "\n",
        "Возможно, будет удобно посчитать отдельно среднюю стоимость заказа, добавить ее в исходные данные и сделать необходимые проверки.\n",
        "\n",
        "*Данный комментарий стоит воспринимать как подсказку к одному из вариантов решений задания. Если в вашем варианте решения он не нужнен, это не страшно*"
      ]
    },
    {
      "cell_type": "code",
      "execution_count": 18,
      "metadata": {
        "colab": {
          "base_uri": "https://localhost:8080/"
        },
        "id": "rm6l0inipZjl",
        "outputId": "4fbac503-272d-4ded-8cb9-46e32d413e2d"
      },
      "outputs": [
        {
          "output_type": "stream",
          "name": "stdout",
          "text": [
            "Более 40% чека товар занимает в 1624 заказах\n"
          ]
        }
      ],
      "source": [
        "order = table.groupby('order_id')['price'].sum()\n",
        "t1 = table.reindex(columns=list(table.columns)+['order','is_over_40proc'])\n",
        "t1.loc[:,'order'] = t1.loc[:,'order_id'].apply(lambda x: order[x])\n",
        "t1['is_over_40proc'] = t1.apply(lambda x: x['price']/x['order'], axis=1)\n",
        "t1 = t1.groupby('order_id')[['is_over_40proc']].max()\n",
        "print('Более 40% чека товар занимает в',\n",
        "      t1[t1['is_over_40proc'] > 0.4].shape[0],'заказах')"
      ]
    },
    {
      "cell_type": "markdown",
      "metadata": {
        "id": "faoiVff1pZjr"
      },
      "source": [
        "#### 12. Предположим, что в данных была ошибка и Diet Coke (choice_description), который стоил $1.25, должен был стоить 1.35. Скорректируйте данные в таблицы и посчитайте, на какой процент больше денег было заработано с этого товара. Не забывайте, что количество товара не всегда равно 1."
      ]
    },
    {
      "cell_type": "code",
      "execution_count": 19,
      "metadata": {
        "colab": {
          "base_uri": "https://localhost:8080/"
        },
        "id": "3103cUZTpZjr",
        "outputId": "604a634a-b591-432c-89d3-83e55b74f6e6"
      },
      "outputs": [
        {
          "output_type": "stream",
          "name": "stdout",
          "text": [
            "Старая выручка = 34500.16\n",
            "Выручка от Diet Coke должна подняться на 8.00%\n",
            "Старая выручка от Diet Coke = 143.75\n",
            "Новая выручка = 34511.66\n",
            "\n",
            "Новая выручка от Diet Coke = 155.25\n",
            "Выручка от Diet Coke поднялась на 8.00%\n",
            "Общая выручка поднялась на 0.03%\n"
          ]
        }
      ],
      "source": [
        "old_revenue = table['price'].sum()\n",
        "print('Старая выручка = {:.2f}'.format(old_revenue))\n",
        "print('Выручка от Diet Coke должна подняться на {:.2f}%'.format(1.35/1.25*100-100))\n",
        "t1 = table.reindex(columns=['is_Diet'])\n",
        "t1['is_Diet'] = table.apply(lambda x: x['price'] if ('Diet Coke' in x['choice_description'])and\n",
        "                           (x['price']==x['quantity']*1.25) else 0,axis=1)\n",
        "old_diet = t1['is_Diet'].sum()\n",
        "print('Старая выручка от Diet Coke = {:.2f}'.format(old_diet))\n",
        "\n",
        "new_table = table.copy()\n",
        "new_table['price'] = table.apply(lambda x: x['quantity']*1.35 if ('Diet Coke' in x['choice_description']) and\n",
        "                                (x['price']==x['quantity']*1.25) else x['price'],axis=1)\n",
        "t1['is_Diet'] = new_table.apply(lambda x: x['price'] if ('Diet Coke' in x['choice_description']) and\n",
        "                                (x['price']==x['quantity']*1.35)else 0,axis=1)\n",
        "new_diet = t1['is_Diet'].sum()\n",
        "new_revenue = new_table['price'].sum()\n",
        "\n",
        "print('Новая выручка = {:.2f}'.format(new_revenue))\n",
        "print('\\nНовая выручка от Diet Coke = {:.2f}'.format(new_diet))\n",
        "print('Выручка от Diet Coke поднялась на {:.2f}%'.format(new_diet/old_diet*100-100))\n",
        "print('Общая выручка поднялась на {:.2f}%'.format(new_revenue/old_revenue*100-100))\n",
        "\n",
        "table = new_table"
      ]
    },
    {
      "cell_type": "markdown",
      "metadata": {
        "id": "jlA0xyQ5pZjs"
      },
      "source": [
        "#### 13. Создайте новый DateFrame из матрицы, созданной ниже. Назовите колонки index, column1, column2 и сделайте первую колонку индексом.\n",
        "\n",
        "Честно говоря, я не понял, о какой матрице здесь идёт речь"
      ]
    },
    {
      "cell_type": "code",
      "execution_count": 19,
      "metadata": {
        "id": "fTqCrxE7pZjs"
      },
      "outputs": [],
      "source": []
    },
    {
      "cell_type": "markdown",
      "metadata": {
        "id": "mwBbS5TepZjz"
      },
      "source": [
        "Сохраните DataFrame на диск в формате csv без индексов и названий столбцов."
      ]
    },
    {
      "cell_type": "code",
      "execution_count": 20,
      "metadata": {
        "id": "84oIAJqdpZj0"
      },
      "outputs": [],
      "source": [
        "# your code"
      ]
    },
    {
      "cell_type": "markdown",
      "metadata": {
        "id": "o0WVWp_opZj1"
      },
      "source": [
        "## 2. Визуализации и matplotlib"
      ]
    },
    {
      "cell_type": "markdown",
      "metadata": {
        "id": "-Df10DGEpZj1"
      },
      "source": [
        "При работе с данными часто неудобно делать какие-то выводы, если смотреть на таблицу и числа в частности, поэтому важно уметь визуализировать данные. В этом разделе мы этим и займёмся.\n",
        "\n",
        "У matplotlib, конечно, же есть [документация](https://matplotlib.org/users/index.html) с большим количеством [примеров](https://matplotlib.org/examples/), но для начала достаточно знать про несколько основных типов графиков:\n",
        "- plot — обычный поточечный график, которым можно изображать кривые или отдельные точки;\n",
        "- hist — гистограмма, показывающая распределение некоторое величины;\n",
        "- scatter — график, показывающий взаимосвязь двух величин;\n",
        "- bar — столбцовый график, показывающий взаимосвязь количественной величины от категориальной.\n",
        "\n",
        "В этом задании вы попробуете построить каждый из них. Не менее важно усвоить базовые принципы визуализаций:\n",
        "- на графиках должны быть подписаны оси;\n",
        "- у визуализации должно быть название;\n",
        "- если изображено несколько графиков, то необходима поясняющая легенда;\n",
        "- все линии на графиках должны быть чётко видны (нет похожих цветов или цветов, сливающихся с фоном);\n",
        "- если отображена величина, имеющая очевидный диапазон значений (например, проценты могут быть от 0 до 100), то желательно масштабировать ось на весь диапазон значений (исключением является случай, когда вам необходимо показать малое отличие, которое незаметно в таких масштабах).\n",
        "- сетка на графике помогает оценить значения в точках на глаз, это обычно полезно, поэтому лучше ее отрисовывать."
      ]
    },
    {
      "cell_type": "code",
      "execution_count": 21,
      "metadata": {
        "id": "ZkHdWCJhpZj7"
      },
      "outputs": [],
      "source": [
        "%matplotlib inline\n",
        "# нужно для отображения графиков внутри ноутбука\n",
        "import matplotlib.pyplot as plt"
      ]
    },
    {
      "cell_type": "markdown",
      "metadata": {
        "id": "GUIHiY9CpZj8"
      },
      "source": [
        "На самом деле мы уже импортировали matplotlib внутри %pylab inline в начале задания.\n",
        "\n",
        "Работать мы будем с той же выборкой покупкок. Добавим новую колонку с датой покупки."
      ]
    },
    {
      "cell_type": "code",
      "execution_count": 22,
      "metadata": {
        "id": "cy8O2OoXpZj9"
      },
      "outputs": [],
      "source": [
        "import datetime\n",
        "\n",
        "start = datetime.datetime(2018, 1, 1)\n",
        "end = datetime.datetime(2018, 1, 31)\n",
        "delta_seconds = int((end - start).total_seconds())\n",
        "\n",
        "dates = pd.DataFrame(index=table.order_id.unique())\n",
        "dates['date'] = [\n",
        "    (start + datetime.timedelta(seconds=random.randint(0, delta_seconds))).strftime('%Y-%m-%d')\n",
        "    for _ in range(table.order_id.nunique())]\n",
        "\n",
        "# если DataFrame с покупками из прошлого заказа называется не df, замените на ваше название ниже\n",
        "table['date'] = table.order_id.map(dates['date'])"
      ]
    },
    {
      "cell_type": "code",
      "source": [
        "print(table.columns)"
      ],
      "metadata": {
        "colab": {
          "base_uri": "https://localhost:8080/"
        },
        "id": "TAD2VB7qI_E3",
        "outputId": "29256c5c-f399-4ccf-cd4c-7a56675c3634"
      },
      "execution_count": 23,
      "outputs": [
        {
          "output_type": "stream",
          "name": "stdout",
          "text": [
            "Index(['order_id', 'quantity', 'item_name', 'choice_description', 'price',\n",
            "       'date'],\n",
            "      dtype='object')\n"
          ]
        }
      ]
    },
    {
      "cell_type": "markdown",
      "metadata": {
        "id": "TzUoIWVBpZkD"
      },
      "source": [
        "#### 14. Постройте гистограмму распределения сумм покупок и гистограмму средних цен отдельных видов продуктов item_name.\n",
        "\n",
        "Изображайте на двух соседних графиках. Для этого может быть полезен subplot."
      ]
    },
    {
      "cell_type": "code",
      "execution_count": 90,
      "metadata": {
        "colab": {
          "base_uri": "https://localhost:8080/",
          "height": 489
        },
        "id": "2w7-Bz3rpZkD",
        "outputId": "4e769d46-1846-464a-feb7-c7ccf74013e4"
      },
      "outputs": [
        {
          "output_type": "stream",
          "name": "stderr",
          "text": [
            "WARNING:matplotlib.legend:No artists with labels found to put in legend.  Note that artists whose label start with an underscore are ignored when legend() is called with no argument.\n"
          ]
        },
        {
          "output_type": "display_data",
          "data": {
            "text/plain": [
              "<Figure size 640x480 with 2 Axes>"
            ],
            "image/png": "[encoded data removed]"
          },
          "metadata": {}
        }
      ],
      "source": [
        "sp = plt.subplot(131)\n",
        "x = np.arange(7,45)\n",
        "purch = table.groupby('order_id')['price'].sum()\n",
        "bars = [len(purch[np.bitwise_and(purch >= x[i], purch < x[i+1])]) for i in range(len(x)-1)]\n",
        "plt.bar(range(len(x)-1),bars)\n",
        "plt.ylabel(r'Количество людей', fontsize=10)\n",
        "plt.title(r'Распределение сумм покупок')\n",
        "\n",
        "sp = plt.subplot(133)\n",
        "items = table['item_name'][table['quantity']==1].drop_duplicates()\n",
        "prices = items.apply(lambda x: table[(table['item_name']==x)&(table['quantity']==1)]['price'].mean()).to_numpy()\n",
        "#data = prices.poisson(10,20)\n",
        "plt.bar(items,prices)\n",
        "ax = plt.gca()\n",
        "ax.axes.xaxis.set_visible(False)\n",
        "plt.ylabel(r'Цены', fontsize=10)\n",
        "plt.legend(loc='best', fontsize=10)\n",
        "plt.title(r'Распределение цен')\n",
        "plt.show()"
      ]
    },
    {
      "cell_type": "markdown",
      "metadata": {
        "id": "DEcbJZoVpZkE"
      },
      "source": [
        "#### 15. Постройте график зависимости суммы покупок от дней."
      ]
    },
    {
      "cell_type": "code",
      "execution_count": 59,
      "metadata": {
        "id": "W2dBFJSbpZkE",
        "colab": {
          "base_uri": "https://localhost:8080/",
          "height": 533
        },
        "outputId": "ab3dc807-6a1e-4767-b838-8cb5d1d8bb15"
      },
      "outputs": [
        {
          "output_type": "execute_result",
          "data": {
            "text/plain": [
              "[<matplotlib.lines.Line2D at 0x7a6b50f9ab00>]"
            ]
          },
          "metadata": {},
          "execution_count": 59
        },
        {
          "output_type": "display_data",
          "data": {
            "text/plain": [
              "<Figure size 640x480 with 1 Axes>"
            ],
            "image/png": "[encoded data removed]"
          },
          "metadata": {}
        }
      ],
      "source": [
        "s = table.groupby('date')['price'].sum()\n",
        "plt.ylabel(r'Сумма покупок', fontsize=10)\n",
        "plt.xlabel(r'Дни', fontsize=10)\n",
        "plt.xticks(rotation=90)\n",
        "plt.plot(s)\n"
      ]
    },
    {
      "cell_type": "markdown",
      "metadata": {
        "id": "DC8Wq1qopZkK"
      },
      "source": [
        "#### 16. Постройте средних сумм покупок по дням недели (bar plot)."
      ]
    },
    {
      "cell_type": "code",
      "execution_count": 82,
      "metadata": {
        "id": "P6O-o0GbpZkK",
        "colab": {
          "base_uri": "https://localhost:8080/",
          "height": 489
        },
        "outputId": "9180f9b5-48f4-4cb7-b92e-d61b5ea2dac7"
      },
      "outputs": [
        {
          "output_type": "execute_result",
          "data": {
            "text/plain": [
              "Text(0.5, 1.0, 'Среднее количество покупок')"
            ]
          },
          "metadata": {},
          "execution_count": 82
        },
        {
          "output_type": "display_data",
          "data": {
            "text/plain": [
              "<Figure size 640x480 with 1 Axes>"
            ],
            "image/png": "[encoded data removed]"
          },
          "metadata": {}
        }
      ],
      "source": [
        "table['week'] = table.date.map(s)\n",
        "Week = ['Mon','Tue','Wed','The','Fri','Sat','Sun']\n",
        "table.loc[:,'week'] = table.loc[:,'date'].apply(lambda x: Week[int(x[-2:])%7-1])\n",
        "purch = table.groupby(['week','date'])['price'].sum()\n",
        "bars = purch.groupby('week').mean()\n",
        "plt.bar(Week,bars)\n",
        "plt.xlabel(r'Дни недели', fontsize=10)\n",
        "plt.ylabel(r'Среднее', fontsize=10)\n",
        "plt.title(r'Среднее количество покупок')"
      ]
    },
    {
      "cell_type": "markdown",
      "metadata": {
        "id": "pLlT9181pZkL"
      },
      "source": [
        "#### 17. Постройте график зависимости денег за товар от купленного количества (scatter plot)."
      ]
    },
    {
      "cell_type": "code",
      "execution_count": 95,
      "metadata": {
        "id": "GED3izVppZkL",
        "colab": {
          "base_uri": "https://localhost:8080/",
          "height": 472
        },
        "outputId": "8851b1df-d253-4312-de9b-9a908ba96d81"
      },
      "outputs": [
        {
          "output_type": "display_data",
          "data": {
            "text/plain": [
              "<Figure size 640x480 with 1 Axes>"
            ],
            "image/png": "[encoded data removed]"
          },
          "metadata": {}
        }
      ],
      "source": [
        "table.plot.scatter(x='quantity',y='price',\n",
        "                   xlabel=r'Количество купленного товара',\n",
        "                   ylabel=r'Уплочено деняк',\n",
        "                   title=r'Зависимость деняк от купленного товара')\n"
      ]
    },
    {
      "cell_type": "markdown",
      "metadata": {
        "id": "s7jaQkjapZkR"
      },
      "source": [
        "#### 18. Сохраните график в формате pdf (так он останется векторизованным)."
      ]
    },
    {
      "cell_type": "code",
      "execution_count": 103,
      "metadata": {
        "id": "mPaQsKGQpZkS",
        "colab": {
          "base_uri": "https://localhost:8080/",
          "height": 472
        },
        "outputId": "b128c959-d897-47e3-89c9-dd83ce4687d3"
      },
      "outputs": [
        {
          "output_type": "display_data",
          "data": {
            "text/plain": [
              "<Figure size 640x480 with 1 Axes>"
            ],
            "image/png": "[encoded data removed]"
          },
          "metadata": {}
        }
      ],
      "source": [
        "plt.scatter(x=table['quantity'],y=table['price'])\n",
        "plt.xlabel(r'Количество купленного товара')\n",
        "plt.ylabel(r'Уплочено деняк')\n",
        "plt.title(r'Зависимость деняк от купленного товара')\n",
        "plt.savefig('gr.pdf')\n",
        "plt.show()"
      ]
    },
    {
      "cell_type": "markdown",
      "metadata": {
        "id": "cNCBg7DGpZkT"
      },
      "source": [
        "Еще одна билиотека для визуализации: [seaborn](https://jakevdp.github.io/PythonDataScienceHandbook/04.14-visualization-with-seaborn.html). Это настройка над matplotlib, иногда удобнее и красивее делать визуализации через неё."
      ]
    }
  ],
  "metadata": {
    "kernel_info": {
      "name": "py36"
    },
    "kernelspec": {
      "display_name": "Python 3 (ipykernel)",
      "language": "python",
      "name": "python3"
    },
    "language_info": {
      "codemirror_mode": {
        "name": "ipython",
        "version": 3
      },
      "file_extension": ".py",
      "mimetype": "text/x-python",
      "name": "python",
      "nbconvert_exporter": "python",
      "pygments_lexer": "ipython3",
      "version": "3.10.11"
    },
    "nteract": {
      "version": "0.11.6"
    },
    "colab": {
      "provenance": []
    }
  },
  "nbformat": 4,
  "nbformat_minor": 0
}